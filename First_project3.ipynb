{
 "cells": [
  {
   "cell_type": "markdown",
   "id": "08bb69dc-5759-4151-b28a-76a68eaf30a7",
   "metadata": {},
   "source": [
    "# test"
   ]
  },
  {
   "cell_type": "code",
   "execution_count": 1,
   "id": "571fd1d6-2647-4d40-9273-6e57583002d9",
   "metadata": {},
   "outputs": [
    {
     "name": "stdout",
     "output_type": "stream",
     "text": [
      "Kir!\n"
     ]
    }
   ],
   "source": [
    "print(\"Kir!\")"
   ]
  },
  {
   "cell_type": "code",
   "execution_count": null,
   "id": "ca828fee-f065-4794-8c40-09a3a3f97e38",
   "metadata": {},
   "outputs": [],
   "source": []
  }
 ],
 "metadata": {
  "kernelspec": {
   "display_name": "Python [conda env:base] *",
   "language": "python",
   "name": "conda-base-py"
  },
  "language_info": {
   "codemirror_mode": {
    "name": "ipython",
    "version": 3
   },
   "file_extension": ".py",
   "mimetype": "text/x-python",
   "name": "python",
   "nbconvert_exporter": "python",
   "pygments_lexer": "ipython3",
   "version": "3.12.7"
  }
 },
 "nbformat": 4,
 "nbformat_minor": 5
}
